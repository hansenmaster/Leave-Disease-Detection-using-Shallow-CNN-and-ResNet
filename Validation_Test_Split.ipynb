{
 "cells": [
  {
   "cell_type": "code",
   "execution_count": 5,
   "metadata": {},
   "outputs": [],
   "source": [
    "import os\n",
    "import shutil\n",
    "import math"
   ]
  },
  {
   "cell_type": "code",
   "execution_count": 31,
   "metadata": {},
   "outputs": [],
   "source": [
    "subfolders"
   ]
  },
  {
   "cell_type": "code",
   "execution_count": 33,
   "metadata": {},
   "outputs": [],
   "source": [
    "os.listdir(source_dir).sort()"
   ]
  },
  {
   "cell_type": "code",
   "execution_count": null,
   "metadata": {},
   "outputs": [],
   "source": []
  },
  {
   "cell_type": "code",
   "execution_count": 36,
   "metadata": {},
   "outputs": [],
   "source": [
    "data_dir = \"./dataset\"\n",
    "train_dir = data_dir + \"/train\"\n",
    "valid_dir = data_dir + \"/valid\"\n",
    "test_dir = data_dir + \"/tests\"\n",
    "\n",
    "source_dir = valid_dir\n",
    "target_dir = test_dir\n",
    "subfolders = os.listdir(source_dir)\n",
    "subfolders.sort()\n",
    "\n",
    "i = 0\n",
    "for subfolder in subfolders:\n",
    "    target_subfolder = os.path.join(target_dir,subfolder)\n",
    "    if not os.path.exists(target_subfolder):\n",
    "        os.makedirs(target_subfolder)\n",
    "        target_subsubfolder = os.path.join(target_subfolder,str(i))\n",
    "        os.makedirs(target_subsubfolder)\n",
    "    \n",
    "    source_subfolder =  os.path.join(source_dir,subfolder)              \n",
    "    filenumbers = len(source_subfolder)\n",
    "    move_percentage = 50\n",
    "    \n",
    "    all_filenames_in_source_subfolder = os.listdir(source_subfolder)\n",
    "    n = math.ceil(len(all_filenames_in_source_subfolder)/(100/move_percentage))\n",
    "    \n",
    "    all_filenames_to_be_moved = all_filenames_in_source_subfolder[n:]\n",
    "    \n",
    "    \n",
    "    for filename_to_be_moved in all_filenames_to_be_moved:\n",
    "        final_source_dir = os.path.join(source_subfolder, filename_to_be_moved)  \n",
    "        final_target_dir = os.path.join(target_subsubfolder, filename_to_be_moved)  \n",
    "        shutil.move(final_source_dir, final_target_dir)\n",
    "        \n",
    "    i+=1\n",
    "                    \n",
    "# file_names = os.listdir(source_dir)\n",
    "    \n",
    "# for file_name in file_names:\n",
    "#     shutil.move(os.path.join(source_dir, file_name), target_dir)\n"
   ]
  },
  {
   "cell_type": "code",
   "execution_count": null,
   "metadata": {},
   "outputs": [],
   "source": []
  },
  {
   "cell_type": "code",
   "execution_count": null,
   "metadata": {},
   "outputs": [],
   "source": []
  },
  {
   "cell_type": "code",
   "execution_count": 29,
   "metadata": {},
   "outputs": [],
   "source": [
    "data_dir = \"./dataset\"\n",
    "train_dir = data_dir + \"/train\"\n",
    "valid_dir = data_dir + \"/valid\"\n",
    "test_dir = data_dir + \"/tests\"\n",
    "\n",
    "source_dir = valid_dir\n",
    "target_dir = test_dir\n",
    "\n",
    "i = 1\n",
    "for subfolder in os.listdir(source_dir):\n",
    "    target_subfolder = os.path.join(target_dir,subfolder)\n",
    "    if not os.path.exists(target_subfolder):\n",
    "        os.makedirs(target_subfolder)\n",
    "    \n",
    "    source_subfolder =  os.path.join(source_dir,subfolder)              \n",
    "    filenumbers = len(source_subfolder)\n",
    "    move_percentage = 50\n",
    "    \n",
    "    all_filenames_in_source_subfolder = os.listdir(source_subfolder)\n",
    "    n = math.ceil(len(all_filenames_in_source_subfolder)/(100/move_percentage))\n",
    "    \n",
    "    all_filenames_to_be_moved = all_filenames_in_source_subfolder[n:]\n",
    "    \n",
    "    \n",
    "    for filename_to_be_moved in all_filenames_to_be_moved:\n",
    "        final_source_dir = os.path.join(source_subfolder, filename_to_be_moved)  \n",
    "        final_target_dir = os.path.join(target_subfolder, filename_to_be_moved)  \n",
    "        shutil.move(final_source_dir, final_target_dir)\n",
    "                    \n",
    "# file_names = os.listdir(source_dir)\n",
    "    \n",
    "# for file_name in file_names:\n",
    "#     shutil.move(os.path.join(source_dir, file_name), target_dir)\n"
   ]
  },
  {
   "cell_type": "code",
   "execution_count": 27,
   "metadata": {},
   "outputs": [
    {
     "data": {
      "text/plain": [
       "'./dataset/tests/Apple___healthy/be0f61c7-6307-4492-8a2c-50987ca6890e___RS_HL 7403_flipTB.JPG'"
      ]
     },
     "execution_count": 27,
     "metadata": {},
     "output_type": "execute_result"
    }
   ],
   "source": [
    "final_target_dir"
   ]
  },
  {
   "cell_type": "code",
   "execution_count": 25,
   "metadata": {
    "scrolled": true
   },
   "outputs": [
    {
     "data": {
      "text/plain": [
       "'Apple___healthy'"
      ]
     },
     "execution_count": 25,
     "metadata": {},
     "output_type": "execute_result"
    }
   ],
   "source": [
    "os.listdir(source_dir)[0]"
   ]
  },
  {
   "cell_type": "code",
   "execution_count": 23,
   "metadata": {},
   "outputs": [
    {
     "data": {
      "text/plain": [
       "['Apple___healthy',\n",
       " 'Cherry_(including_sour)___healthy',\n",
       " 'Squash___Powdery_mildew',\n",
       " 'Corn_(maize)___Common_rust_',\n",
       " 'Tomato___Late_blight',\n",
       " 'Tomato___Septoria_leaf_spot',\n",
       " 'Apple___Black_rot',\n",
       " 'Tomato___Tomato_Yellow_Leaf_Curl_Virus',\n",
       " 'Tomato___Target_Spot',\n",
       " 'Pepper,_bell___healthy',\n",
       " 'Apple___Cedar_apple_rust',\n",
       " 'Tomato___Tomato_mosaic_virus',\n",
       " 'Cherry_(including_sour)___Powdery_mildew',\n",
       " 'Raspberry___healthy',\n",
       " 'Peach___Bacterial_spot',\n",
       " 'Strawberry___healthy',\n",
       " 'Strawberry___Leaf_scorch',\n",
       " 'Tomato___Early_blight',\n",
       " 'Potato___healthy',\n",
       " 'Pepper,_bell___Bacterial_spot',\n",
       " 'Potato___Early_blight',\n",
       " 'Grape___Black_rot',\n",
       " 'Corn_(maize)___healthy',\n",
       " 'Orange___Haunglongbing_(Citrus_greening)',\n",
       " 'Peach___healthy',\n",
       " 'Corn_(maize)___Northern_Leaf_Blight',\n",
       " 'Blueberry___healthy',\n",
       " 'Tomato___Leaf_Mold',\n",
       " 'Tomato___healthy',\n",
       " 'Tomato___Bacterial_spot',\n",
       " 'Grape___healthy',\n",
       " 'Tomato___Spider_mites Two-spotted_spider_mite',\n",
       " 'Grape___Leaf_blight_(Isariopsis_Leaf_Spot)',\n",
       " 'Potato___Late_blight',\n",
       " 'Grape___Esca_(Black_Measles)',\n",
       " 'Apple___Apple_scab',\n",
       " 'Corn_(maize)___Cercospora_leaf_spot Gray_leaf_spot',\n",
       " 'Soybean___healthy']"
      ]
     },
     "execution_count": 23,
     "metadata": {},
     "output_type": "execute_result"
    }
   ],
   "source": [
    "os.listdir(source_dir)"
   ]
  },
  {
   "cell_type": "code",
   "execution_count": null,
   "metadata": {},
   "outputs": [],
   "source": []
  },
  {
   "cell_type": "code",
   "execution_count": null,
   "metadata": {},
   "outputs": [],
   "source": []
  },
  {
   "cell_type": "code",
   "execution_count": 20,
   "metadata": {},
   "outputs": [
    {
     "data": {
      "text/plain": [
       "['14484ea5-9c34-427c-abe4-2743265aced0___RS_HL 4204_new200degFlipTB.JPG',\n",
       " '07dfb451-4378-49d1-b699-33a5fc49ff07___RS_HL 5399_flipLR.JPG',\n",
       " '9d7d1bb9-1b10-4a8f-a961-e404b9d5acf8___RS_HL 1960_newGRR.JPG',\n",
       " '413bc2e9-eb2a-48fd-ba65-48b5121fd85c___RS_HL 4200_flipLR.JPG',\n",
       " '51a03694-82cd-43a5-9877-ddce42c1a5ad___RS_HL 1779_flipTB.JPG',\n",
       " '929107f1-4ae9-4dae-8319-ae7cf4804236___RS_HL 1932_new30degFlipLR.JPG',\n",
       " 'd1752ed4-a0a7-4075-917d-205c0e785dcf___RS_HL 1911_newGGR.JPG',\n",
       " '43fd6ace-3712-494a-9aba-de5482d22561___RS_HL 1968_new90degFlipTB.JPG',\n",
       " '907f26b7-a14f-463f-a41e-f35d6e0f1417___RS_HL 1757_270deg.JPG',\n",
       " '3a1dbeee-089c-43f0-8f51-a92d3687a515___RS_HL 1754_new90degFlipLR.JPG',\n",
       " '38faf81d-c83b-42ca-b4c3-e3bbfa070589___RS_HL 1805.JPG',\n",
       " 'f0fdde26-78b4-46f0-9eb8-7c2a743d34aa___RS_HL 4165_90deg.JPG',\n",
       " '849aa978-c7b9-4344-9ca8-129219a65f8e___RS_HL 1874_new200degFlipLR.JPG',\n",
       " '5df30492-0b54-474d-8883-bba9474ca88f___RS_HL 1801_flipLR.JPG',\n",
       " '0b3e5032-8ae8-49ac-8157-a1cac3df01dd___RS_HL 1817_new200degFlipLR.JPG',\n",
       " 'bb04f738-1848-4dda-8834-384a48b335cd___RS_HL 1765_flipTB.JPG',\n",
       " '413bc2e9-eb2a-48fd-ba65-48b5121fd85c___RS_HL 4200_flipTB.JPG',\n",
       " 'de9a8669-d437-40f0-aa56-fe2d8276a1e0___RS_HL 1910_new200degFlipTB.JPG',\n",
       " 'd340704d-cc00-4068-bb8a-ae70840b7bfa___RS_HL 1773_new30degFlipLR.JPG',\n",
       " '3a1dbeee-089c-43f0-8f51-a92d3687a515___RS_HL 1754_newPixel25.JPG',\n",
       " '762672f4-17e6-4fd6-84f1-3bcb091b3ca5___RS_HL 5417_new200degFlipTB.JPG',\n",
       " '43fd6ace-3712-494a-9aba-de5482d22561___RS_HL 1968_newPixel25.JPG',\n",
       " 'b4031970-60ea-4739-9fed-6c81be1bad1c___RS_HL 1752_newPixel25.JPG',\n",
       " '414f6249-9f78-4af5-9593-9d5a7e7d979f___RS_HL 1918_new200degFlipTB.JPG',\n",
       " '3f369e63-81eb-4194-a145-df9ed91abc5d___RS_HL 1745_flipTB.JPG',\n",
       " 'bb328d40-e4e6-4b84-a92a-e7cb3922c19d___RS_HL 1829_270deg.JPG',\n",
       " '7e6c8297-dfe1-4826-826e-01d696cc263b___RS_HL 1863_newGRR.JPG',\n",
       " '1dcfeaa9-006d-470c-b3e5-d67609d07d4e___RS_HL 1808_newGRR.JPG',\n",
       " '142fb983-2166-4a0f-b99b-a6c21e99987e___RS_HL 5398_new90degFlipTB.JPG',\n",
       " '45bc0b37-ca59-4a89-8531-705af42a6fd5___RS_HL 1946_new200degFlipLR.JPG',\n",
       " 'e693354a-053c-4093-8642-cc8f5f9eb2cc___RS_HL 1746_new200degFlipTB.JPG',\n",
       " 'd227e4c8-e203-4aa4-b813-25b96baa2869___RS_HL 1831_flipLR.JPG',\n",
       " '3c0d6888-c7e1-4cf8-9c25-9a0b8c62ba72___RS_HL 1780_newGRR.JPG',\n",
       " '8c1e1281-5937-4559-a02f-02817de6e122___RS_HL 4173_newGGR.JPG',\n",
       " '2e0b8b4b-e900-408b-b760-730690bbd382___RS_HL 1901_new90degFlipTB.JPG',\n",
       " '750584fd-72e0-45c8-b37c-97208bd559cc___RS_HL 1885_new30degFlipTB.JPG',\n",
       " 'c3caa84b-6078-4489-80ac-919d92d25ff7___RS_HL 1772_newPixel25.JPG',\n",
       " 'dca8ac5c-b925-435a-a5e9-da09fa8938a1___RS_HL 4182_flipLR.JPG',\n",
       " '3edf7c3f-73e0-439c-870d-76cfd7c3bc45___RS_HL 1859_180deg.JPG',\n",
       " 'e1b49d1b-165b-4f4e-8a30-735e62bc39c5___RS_HL 1839_new200degFlipTB.JPG',\n",
       " 'bb04f738-1848-4dda-8834-384a48b335cd___RS_HL 1765_newGRR.JPG',\n",
       " '51a03694-82cd-43a5-9877-ddce42c1a5ad___RS_HL 1779_new200degFlipTB.JPG',\n",
       " '929107f1-4ae9-4dae-8319-ae7cf4804236___RS_HL 1932_flipLR.JPG',\n",
       " 'c548fe0e-21c2-4241-b806-1e438a1213bd___RS_HL 1770_new30degFlipLR.JPG',\n",
       " '1a1184f8-c414-4ead-a4c4-41ae78e29a82___RS_HL 1971_new90degFlipTB.JPG',\n",
       " 'e34e563f-7a4a-4b44-bdf2-b6f96cbcd929___RS_HL 5370_new200degFlipLR.JPG',\n",
       " 'b42621c3-f751-46e1-a8d2-83ed85b90554___RS_HL 1740_newGRR.JPG',\n",
       " '1b434c52-7be4-40c4-90d5-13220f1a3eba___RS_HL 5418_newGRR.JPG',\n",
       " '046641c1-f837-49eb-b5f2-4109910a027c___RS_HL 1878_new30degFlipLR.JPG',\n",
       " '2dee1571-ef6b-40ef-8c46-334e89aad3f1___RS_HL 1950_new30degFlipTB.JPG',\n",
       " '23f4d3b1-23f4-43fb-96c2-dae37224ec74___RS_HL 1803_flipTB.JPG',\n",
       " '51a03694-82cd-43a5-9877-ddce42c1a5ad___RS_HL 1779_new90degFlipTB.JPG',\n",
       " '142fb983-2166-4a0f-b99b-a6c21e99987e___RS_HL 5398_flipTB.JPG',\n",
       " '57e262fc-e0ba-44db-a967-5ba6f1826e49___RS_HL 1897_new90degFlipLR.JPG',\n",
       " '61b8a692-91d8-40f5-a4a4-4d910875a638___RS_HL 1966.JPG',\n",
       " '0f4ebc5a-d646-436a-919d-961342997cde___RS_HL 4183_new90degFlipLR.JPG',\n",
       " '750584fd-72e0-45c8-b37c-97208bd559cc___RS_HL 1885_new30degFlipLR.JPG',\n",
       " 'c548fe0e-21c2-4241-b806-1e438a1213bd___RS_HL 1770_flipLR.JPG',\n",
       " 'f4b5ec24-d318-4309-8294-9126450d5d7f___RS_HL 1824_new30degFlipTB.JPG',\n",
       " 'e51367c1-d582-45e3-acf6-b0e652b43d3a___RS_HL 1873_90deg.JPG',\n",
       " 'a4d1d8cb-26a2-413f-a229-021e2eea87ac___RS_HL 1819_90deg.JPG',\n",
       " 'ad9b6cf4-e065-496d-91c7-5713ce14e19e___RS_HL 1926.JPG',\n",
       " 'f4be3632-42a1-415a-9f7e-1d5ecb9f49d7___RS_HL 1783_newGGR.JPG',\n",
       " 'c3caa84b-6078-4489-80ac-919d92d25ff7___RS_HL 1772_new90degFlipTB.JPG',\n",
       " '04481ca2-f94c-457e-b785-1ac05800b7ec___RS_HL 1930_90deg.JPG',\n",
       " '8b2ce6b6-f00a-4f25-ac6d-4249dd7dc5f6___RS_HL 1890_flipLR.JPG',\n",
       " '683b04ad-7941-4819-9965-ba32c725eb22___RS_HL 1861_new90degFlipLR.JPG',\n",
       " '923d4cc3-021a-4bcd-9f5f-1d6f69e4ad33___RS_HL 1888_new30degFlipLR.JPG',\n",
       " '4bbccfb6-5720-4c80-9b37-0c3ed8999c9f___RS_HL 1791_270deg.JPG',\n",
       " '00fc2ee5-729f-4757-8aeb-65c3355874f2___RS_HL 1864_new90degFlipTB.JPG',\n",
       " '03da9931-e514-4cc7-b04a-8f474a133ce5___RS_HL 1830_new90degFlipLR.JPG',\n",
       " '38faf81d-c83b-42ca-b4c3-e3bbfa070589___RS_HL 1805_new30degFlipTB.JPG',\n",
       " '20ac28d6-5708-4e31-8676-1b1979de094f___RS_HL 1735_270deg.JPG',\n",
       " 'f0036dfd-9f46-4f2f-9001-5973495f2171___RS_HL 1849_flipLR.JPG',\n",
       " 'c9ad5c9a-c9b0-4e07-9e03-9e9edfd58a19___RS_HL 1755_new200degFlipTB.JPG',\n",
       " 'e693354a-053c-4093-8642-cc8f5f9eb2cc___RS_HL 1746_new30degFlipLR.JPG',\n",
       " 'e34e563f-7a4a-4b44-bdf2-b6f96cbcd929___RS_HL 5370_flipLR.JPG',\n",
       " '5a3fc4bb-a78c-4276-8934-f0b037ffb860___RS_HL 5412_flipLR.JPG',\n",
       " 'af15ac00-67ff-4114-ace8-6dca48b94665___RS_HL 1865.JPG',\n",
       " '14484ea5-9c34-427c-abe4-2743265aced0___RS_HL 4204_180deg.JPG',\n",
       " '2dee1571-ef6b-40ef-8c46-334e89aad3f1___RS_HL 1950_flipLR.JPG',\n",
       " 'd227e4c8-e203-4aa4-b813-25b96baa2869___RS_HL 1831_newGGR.JPG',\n",
       " 'c9ad5c9a-c9b0-4e07-9e03-9e9edfd58a19___RS_HL 1755_flipLR.JPG',\n",
       " '61b05f0a-14bc-4c8f-a256-57c8b8898d8c___RS_HL 1769_new200degFlipTB.JPG',\n",
       " 'aa04db6d-645f-4e8a-88dc-c9f9396f0800___RS_HL 1975_new200degFlipTB.JPG',\n",
       " 'd287be3d-cac6-4485-8c31-674fb8b459be___RS_HL 1973_180deg.JPG',\n",
       " 'dbe4f332-9189-4b76-b30c-f0c9a55e48d3___RS_HL 1841_270deg.JPG',\n",
       " '8b2ce6b6-f00a-4f25-ac6d-4249dd7dc5f6___RS_HL 1890_newPixel25.JPG',\n",
       " '14484ea5-9c34-427c-abe4-2743265aced0___RS_HL 4204_flipTB.JPG',\n",
       " '533abd3a-3e1d-42d0-ae9c-5189282b78af___RS_HL 5369_90deg.JPG',\n",
       " 'd287be3d-cac6-4485-8c31-674fb8b459be___RS_HL 1973_new90degFlipTB.JPG',\n",
       " '9c620128-2872-4bbb-bc14-d5b785242cf6___RS_HL 1751_new30degFlipTB.JPG',\n",
       " '57e24d88-fd01-4422-b8b5-d688d2296184___RS_HL 5401_flipLR.JPG',\n",
       " '0be9d721-82f5-42c3-b535-7494afe01dbe___RS_HL 1814_flipTB.JPG',\n",
       " '5d505af8-3f73-4781-980c-a4a696a04550___RS_HL 1934_new30degFlipLR.JPG',\n",
       " '1106c3fc-92cb-41a6-a6c6-8f08b9b45108___RS_HL 1914_270deg.JPG',\n",
       " '54f86311-9d76-421b-b401-0b02f6e738a5___RS_HL 4172_new30degFlipLR.JPG',\n",
       " 'b9ea902d-e557-4fa5-893b-39a7a57c0121___RS_HL 1893.JPG',\n",
       " 'a5050bde-febc-4931-b31d-45c9652df318___RS_HL 5373_180deg.JPG',\n",
       " 'b536ea91-c5f8-413b-87f3-a22ac3d959d1___RS_HL 1825_new90degFlipLR.JPG',\n",
       " '0b3e5032-8ae8-49ac-8157-a1cac3df01dd___RS_HL 1817_newPixel25.JPG',\n",
       " 'd325e580-5faa-4aea-927d-2700f52cc343___RS_HL 1872_new30degFlipTB.JPG',\n",
       " 'f5bd2732-197b-4d8e-bb50-a4966dc416f5___RS_HL 1840_flipTB.JPG',\n",
       " '9c620128-2872-4bbb-bc14-d5b785242cf6___RS_HL 1751_flipLR.JPG',\n",
       " '46b2555a-c0a6-48c2-af13-0816e147e4de___RS_HL 1943_newPixel25.JPG',\n",
       " '7e6c8297-dfe1-4826-826e-01d696cc263b___RS_HL 1863_new30degFlipTB.JPG',\n",
       " '3edf7c3f-73e0-439c-870d-76cfd7c3bc45___RS_HL 1859.JPG',\n",
       " '0f4ebc5a-d646-436a-919d-961342997cde___RS_HL 4183_new90degFlipTB.JPG',\n",
       " 'e34e563f-7a4a-4b44-bdf2-b6f96cbcd929___RS_HL 5370_new30degFlipLR.JPG',\n",
       " '170f1f57-0fd4-421f-9c82-3b1804be63ad___RS_HL 1771_270deg.JPG',\n",
       " 'b42621c3-f751-46e1-a8d2-83ed85b90554___RS_HL 1740_270deg.JPG',\n",
       " '907f26b7-a14f-463f-a41e-f35d6e0f1417___RS_HL 1757_new90degFlipLR.JPG',\n",
       " '414f6249-9f78-4af5-9593-9d5a7e7d979f___RS_HL 1918_new90degFlipLR.JPG',\n",
       " 'e51367c1-d582-45e3-acf6-b0e652b43d3a___RS_HL 1873_new90degFlipLR.JPG',\n",
       " '882798ca-67c3-45a3-86cf-4aed69388145___RS_HL 1750_new30degFlipTB.JPG',\n",
       " 'd227e4c8-e203-4aa4-b813-25b96baa2869___RS_HL 1831_new200degFlipTB.JPG',\n",
       " 'f4be3632-42a1-415a-9f7e-1d5ecb9f49d7___RS_HL 1783_180deg.JPG',\n",
       " '38faf81d-c83b-42ca-b4c3-e3bbfa070589___RS_HL 1805_270deg.JPG',\n",
       " '0f4ebc5a-d646-436a-919d-961342997cde___RS_HL 4183_new200degFlipLR.JPG',\n",
       " '00fc2ee5-729f-4757-8aeb-65c3355874f2___RS_HL 1864_180deg.JPG',\n",
       " '8b2ce6b6-f00a-4f25-ac6d-4249dd7dc5f6___RS_HL 1890_new30degFlipTB.JPG',\n",
       " 'f4be3632-42a1-415a-9f7e-1d5ecb9f49d7___RS_HL 1783_new30degFlipTB.JPG',\n",
       " '9d7d1bb9-1b10-4a8f-a961-e404b9d5acf8___RS_HL 1960_new90degFlipLR.JPG',\n",
       " '0be9d721-82f5-42c3-b535-7494afe01dbe___RS_HL 1814.JPG',\n",
       " '3a1dbeee-089c-43f0-8f51-a92d3687a515___RS_HL 1754_90deg.JPG',\n",
       " '56ae1281-5ee5-4f2a-8678-c2e4491878c6___RS_HL 1869_270deg.JPG',\n",
       " '5df30492-0b54-474d-8883-bba9474ca88f___RS_HL 1801_270deg.JPG',\n",
       " '9a6eb7c4-6b43-477a-89e0-69f62ef67991___RS_HL 1846.JPG',\n",
       " '774875d3-438a-4305-afe2-7d59e2925dc4___RS_HL 1759_new30degFlipTB.JPG',\n",
       " '3edf7c3f-73e0-439c-870d-76cfd7c3bc45___RS_HL 1859_new90degFlipLR.JPG',\n",
       " 'de9a8669-d437-40f0-aa56-fe2d8276a1e0___RS_HL 1910_90deg.JPG',\n",
       " 'e34e563f-7a4a-4b44-bdf2-b6f96cbcd929___RS_HL 5370_newGRR.JPG',\n",
       " 'c85bacb0-e5e8-4127-a0b0-a7342f2cab5f___RS_HL 5406_90deg.JPG',\n",
       " '57e24d88-fd01-4422-b8b5-d688d2296184___RS_HL 5401_90deg.JPG',\n",
       " 'bf2bffbb-cd8f-4d36-bd58-847808397c75___RS_HL 1786_flipTB.JPG',\n",
       " 'e693354a-053c-4093-8642-cc8f5f9eb2cc___RS_HL 1746_new200degFlipLR.JPG',\n",
       " '8583c4ff-2d8b-4b6f-89a8-fcc98917ce9b___RS_HL 1961_newGGR.JPG',\n",
       " 'b536ea91-c5f8-413b-87f3-a22ac3d959d1___RS_HL 1825_new30degFlipLR.JPG',\n",
       " 'e1b49d1b-165b-4f4e-8a30-735e62bc39c5___RS_HL 1839_90deg.JPG',\n",
       " 'e51367c1-d582-45e3-acf6-b0e652b43d3a___RS_HL 1873_180deg.JPG',\n",
       " '22322780-95b4-4b45-b626-26b22965d55e___RS_HL 1880_flipLR.JPG',\n",
       " '750584fd-72e0-45c8-b37c-97208bd559cc___RS_HL 1885_newGRR.JPG',\n",
       " 'c6204cb3-cd9f-4d7b-92a6-9773fe562cab___RS_HL 1939_270deg.JPG',\n",
       " 'f0036dfd-9f46-4f2f-9001-5973495f2171___RS_HL 1849_newGGR.JPG',\n",
       " 'a4d1d8cb-26a2-413f-a229-021e2eea87ac___RS_HL 1819_new90degFlipTB.JPG',\n",
       " '750584fd-72e0-45c8-b37c-97208bd559cc___RS_HL 1885_180deg.JPG',\n",
       " '7e6c8297-dfe1-4826-826e-01d696cc263b___RS_HL 1863_new30degFlipLR.JPG',\n",
       " 'b4031970-60ea-4739-9fed-6c81be1bad1c___RS_HL 1752_new200degFlipLR.JPG',\n",
       " '163ada72-4288-4f85-a3c1-feed23c8d1de___RS_HL 1940_newGGR.JPG',\n",
       " 'c548fe0e-21c2-4241-b806-1e438a1213bd___RS_HL 1770_new200degFlipLR.JPG',\n",
       " '60e9a878-13e0-4345-964c-fd807cd20bbb___RS_HL 1876_new30degFlipTB.JPG',\n",
       " 'f4be3632-42a1-415a-9f7e-1d5ecb9f49d7___RS_HL 1783.JPG',\n",
       " '9b5be0c5-7d7e-493d-88ba-c721c85f73ca___RS_HL 5405_new200degFlipTB.JPG',\n",
       " 'c07db642-c675-4066-99b6-56bc8207fb37___RS_HL 4164_90deg.JPG',\n",
       " 'e51367c1-d582-45e3-acf6-b0e652b43d3a___RS_HL 1873_flipLR.JPG',\n",
       " 'ec6e43d3-512d-4908-99f2-c9e2a0be54be___RS_HL 4202.JPG',\n",
       " 'dca8ac5c-b925-435a-a5e9-da09fa8938a1___RS_HL 4182_new90degFlipLR.JPG',\n",
       " 'ad9b6cf4-e065-496d-91c7-5713ce14e19e___RS_HL 1926_new30degFlipTB.JPG',\n",
       " 'b4031970-60ea-4739-9fed-6c81be1bad1c___RS_HL 1752_newGRR.JPG',\n",
       " '9a6eb7c4-6b43-477a-89e0-69f62ef67991___RS_HL 1846_new90degFlipLR.JPG',\n",
       " 'f5bd2732-197b-4d8e-bb50-a4966dc416f5___RS_HL 1840_newGRR.JPG',\n",
       " '7e7b6ab4-9adb-4a3b-abfb-8716b0039879___RS_HL 1921_newPixel25.JPG',\n",
       " '849aa978-c7b9-4344-9ca8-129219a65f8e___RS_HL 1874_180deg.JPG',\n",
       " '8583c4ff-2d8b-4b6f-89a8-fcc98917ce9b___RS_HL 1961_new30degFlipLR.JPG',\n",
       " '20ac28d6-5708-4e31-8676-1b1979de094f___RS_HL 1735_flipLR.JPG',\n",
       " 'f30983c0-6e20-43cc-8672-4622ca34c830___RS_HL 1949_new90degFlipLR.JPG',\n",
       " '9a6eb7c4-6b43-477a-89e0-69f62ef67991___RS_HL 1846_new30degFlipLR.JPG',\n",
       " '849aa978-c7b9-4344-9ca8-129219a65f8e___RS_HL 1874_new90degFlipLR.JPG',\n",
       " '163ada72-4288-4f85-a3c1-feed23c8d1de___RS_HL 1940_new30degFlipTB.JPG',\n",
       " '51a03694-82cd-43a5-9877-ddce42c1a5ad___RS_HL 1779_new90degFlipLR.JPG',\n",
       " 'b8b7b98a-eb1a-4213-9b0b-aeef4df427e8___RS_HL 1858_new90degFlipLR.JPG',\n",
       " 'c6abf1da-b06f-4cd2-8af6-d68be5eff6f9___RS_HL 1766_270deg.JPG',\n",
       " '20ac28d6-5708-4e31-8676-1b1979de094f___RS_HL 1735.JPG',\n",
       " 'b61b9d33-59ea-41b0-a554-c382eb6128c5___RS_HL 1919_new30degFlipLR.JPG',\n",
       " 'bb04f738-1848-4dda-8834-384a48b335cd___RS_HL 1765_new200degFlipLR.JPG',\n",
       " '7e7b6ab4-9adb-4a3b-abfb-8716b0039879___RS_HL 1921_new200degFlipLR.JPG',\n",
       " 'fd92bd9c-02cb-4599-8673-9316159504a1___RS_HL 1927_flipTB.JPG',\n",
       " '799b10e8-ba67-4e08-9abe-748789572ad1___RS_HL 1881_new90degFlipTB.JPG',\n",
       " 'd325e580-5faa-4aea-927d-2700f52cc343___RS_HL 1872_newGGR.JPG',\n",
       " 'c3caa84b-6078-4489-80ac-919d92d25ff7___RS_HL 1772_new200degFlipLR.JPG',\n",
       " '9d7d1bb9-1b10-4a8f-a961-e404b9d5acf8___RS_HL 1960_newPixel25.JPG',\n",
       " '07dfb451-4378-49d1-b699-33a5fc49ff07___RS_HL 5399_new30degFlipTB.JPG',\n",
       " 'ee052892-e935-4fbb-9344-4d23c57c6890___RS_HL 5400_flipTB.JPG',\n",
       " 'b28c43f9-5844-4e9b-86bf-36bc114cae07___RS_HL 1736_new90degFlipLR.JPG',\n",
       " '23f4d3b1-23f4-43fb-96c2-dae37224ec74___RS_HL 1803.JPG',\n",
       " 'a02b6205-b40a-4178-8b34-3494f84b9d1f___RS_HL 1958_flipLR.JPG',\n",
       " '163ada72-4288-4f85-a3c1-feed23c8d1de___RS_HL 1940_flipLR.JPG',\n",
       " '0f4ebc5a-d646-436a-919d-961342997cde___RS_HL 4183_270deg.JPG',\n",
       " 'a3ec91aa-8503-4711-a912-0d1427e25686___RS_HL 5409_new200degFlipLR.JPG',\n",
       " 'a02b6205-b40a-4178-8b34-3494f84b9d1f___RS_HL 1958_270deg.JPG',\n",
       " '4ae82355-6885-40e7-9807-dabe46ed3441___RS_HL 5410.JPG',\n",
       " '1b434c52-7be4-40c4-90d5-13220f1a3eba___RS_HL 5418_new200degFlipLR.JPG',\n",
       " '22322780-95b4-4b45-b626-26b22965d55e___RS_HL 1880_newGGR.JPG',\n",
       " 'f66af6c0-6fc6-4020-b1de-a73685d497c2___RS_HL 4181_flipTB.JPG',\n",
       " 'f0fdde26-78b4-46f0-9eb8-7c2a743d34aa___RS_HL 4165_new200degFlipLR.JPG',\n",
       " '54f86311-9d76-421b-b401-0b02f6e738a5___RS_HL 4172_newGRR.JPG',\n",
       " '3a00204c-5e53-4e5d-95a6-f8819031744e___RS_HL 5420_flipLR.JPG',\n",
       " '3edf7c3f-73e0-439c-870d-76cfd7c3bc45___RS_HL 1859_flipTB.JPG',\n",
       " '14484ea5-9c34-427c-abe4-2743265aced0___RS_HL 4204_new90degFlipLR.JPG',\n",
       " 'a8d687be-3777-403f-bae7-5c8c19340b3f___RS_HL 1738_newPixel25.JPG',\n",
       " '0f4ebc5a-d646-436a-919d-961342997cde___RS_HL 4183.JPG',\n",
       " '799b10e8-ba67-4e08-9abe-748789572ad1___RS_HL 1881.JPG',\n",
       " '468d3107-f09a-4f0d-8b9d-f08d7c49738f___RS_HL 1747_270deg.JPG',\n",
       " 'a8d687be-3777-403f-bae7-5c8c19340b3f___RS_HL 1738_new200degFlipLR.JPG',\n",
       " 'ec6e43d3-512d-4908-99f2-c9e2a0be54be___RS_HL 4202_new200degFlipLR.JPG',\n",
       " 'ad9b6cf4-e065-496d-91c7-5713ce14e19e___RS_HL 1926_90deg.JPG',\n",
       " '57e262fc-e0ba-44db-a967-5ba6f1826e49___RS_HL 1897_new200degFlipTB.JPG',\n",
       " 'ad9b6cf4-e065-496d-91c7-5713ce14e19e___RS_HL 1926_270deg.JPG',\n",
       " '4ae82355-6885-40e7-9807-dabe46ed3441___RS_HL 5410_180deg.JPG',\n",
       " '57c2663b-5d1d-4476-b067-38b2149c3b2d___RS_HL 1796_new90degFlipLR.JPG',\n",
       " '369479a9-3c28-4d77-8731-9ae54e719af3___RS_HL 1785_new200degFlipLR.JPG',\n",
       " 'dbe4f332-9189-4b76-b30c-f0c9a55e48d3___RS_HL 1841_flipLR.JPG',\n",
       " '923d4cc3-021a-4bcd-9f5f-1d6f69e4ad33___RS_HL 1888_newGRR.JPG',\n",
       " 'c6abf1da-b06f-4cd2-8af6-d68be5eff6f9___RS_HL 1766_new90degFlipLR.JPG',\n",
       " 'f4b5ec24-d318-4309-8294-9126450d5d7f___RS_HL 1824_newGGR.JPG',\n",
       " '14484ea5-9c34-427c-abe4-2743265aced0___RS_HL 4204_newPixel25.JPG',\n",
       " '5df30492-0b54-474d-8883-bba9474ca88f___RS_HL 1801_newGGR.JPG',\n",
       " '1dcfeaa9-006d-470c-b3e5-d67609d07d4e___RS_HL 1808_180deg.JPG',\n",
       " '60e9a878-13e0-4345-964c-fd807cd20bbb___RS_HL 1876_new30degFlipLR.JPG',\n",
       " 'ff700844-68ad-4e99-8427-58a39c07f817___RS_HL 1860_newGRR.JPG',\n",
       " 'f0036dfd-9f46-4f2f-9001-5973495f2171___RS_HL 1849_270deg.JPG',\n",
       " 'b925ad3e-fc49-497d-a6eb-115f0de20800___RS_HL 4170_newPixel25.JPG',\n",
       " '31a09d39-6791-4ecb-8f44-af2ed85dbd33___RS_HL 1970_270deg.JPG',\n",
       " '875d6ded-5f01-495c-a945-ad2e17f87f91___RS_HL 1848_270deg.JPG',\n",
       " '36bdc44c-96a4-40bb-86f7-63a91d706e96___RS_HL 4203_flipTB.JPG',\n",
       " 'c548fe0e-21c2-4241-b806-1e438a1213bd___RS_HL 1770_270deg.JPG',\n",
       " 'c6204cb3-cd9f-4d7b-92a6-9773fe562cab___RS_HL 1939_new30degFlipTB.JPG',\n",
       " '8665efd2-fa3d-45f8-b1c0-746c99fb7d1e___RS_HL 1924_new200degFlipTB.JPG']"
      ]
     },
     "execution_count": 20,
     "metadata": {},
     "output_type": "execute_result"
    }
   ],
   "source": [
    "all_filenames_to_be_moved"
   ]
  },
  {
   "cell_type": "code",
   "execution_count": null,
   "metadata": {},
   "outputs": [],
   "source": []
  },
  {
   "cell_type": "code",
   "execution_count": 16,
   "metadata": {},
   "outputs": [
    {
     "data": {
      "text/plain": [
       "'./dataset/valid'"
      ]
     },
     "execution_count": 16,
     "metadata": {},
     "output_type": "execute_result"
    }
   ],
   "source": [
    "source_dir"
   ]
  },
  {
   "cell_type": "code",
   "execution_count": 18,
   "metadata": {},
   "outputs": [
    {
     "name": "stdout",
     "output_type": "stream",
     "text": [
      "Apple___healthy\n",
      "Cherry_(including_sour)___healthy\n",
      "Squash___Powdery_mildew\n",
      "Corn_(maize)___Common_rust_\n",
      "Tomato___Late_blight\n",
      "Tomato___Septoria_leaf_spot\n",
      "Apple___Black_rot\n",
      "Tomato___Tomato_Yellow_Leaf_Curl_Virus\n",
      "Tomato___Target_Spot\n",
      "Pepper,_bell___healthy\n",
      "Apple___Cedar_apple_rust\n",
      "Tomato___Tomato_mosaic_virus\n",
      "Cherry_(including_sour)___Powdery_mildew\n",
      "Raspberry___healthy\n",
      "Peach___Bacterial_spot\n",
      "Strawberry___healthy\n",
      "Strawberry___Leaf_scorch\n",
      "Tomato___Early_blight\n",
      "Potato___healthy\n"
     ]
    }
   ],
   "source": [
    "for subfolder in os.listdir(source_dir):\n",
    "    print(subfolder)"
   ]
  },
  {
   "cell_type": "code",
   "execution_count": null,
   "metadata": {},
   "outputs": [],
   "source": []
  },
  {
   "cell_type": "code",
   "execution_count": 7,
   "metadata": {},
   "outputs": [
    {
     "data": {
      "text/plain": [
       "'Soybean___healthy'"
      ]
     },
     "execution_count": 7,
     "metadata": {},
     "output_type": "execute_result"
    }
   ],
   "source": [
    "subfolder"
   ]
  },
  {
   "cell_type": "code",
   "execution_count": null,
   "metadata": {},
   "outputs": [],
   "source": []
  }
 ],
 "metadata": {
  "kernelspec": {
   "display_name": "Python 3",
   "language": "python",
   "name": "python3"
  },
  "language_info": {
   "codemirror_mode": {
    "name": "ipython",
    "version": 3
   },
   "file_extension": ".py",
   "mimetype": "text/x-python",
   "name": "python",
   "nbconvert_exporter": "python",
   "pygments_lexer": "ipython3",
   "version": "3.8.5"
  }
 },
 "nbformat": 4,
 "nbformat_minor": 4
}
